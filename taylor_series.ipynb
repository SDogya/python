{
 "cells": [
  {
   "cell_type": "code",
   "execution_count": null,
   "source": [
    "import numpy\r\n",
    "\r\n",
    "def fact(n):\r\n",
    "    x = 1\r\n",
    "    c = 1\r\n",
    "    while x < n + 1:\r\n",
    "        c *= x\r\n",
    "        x += 1\r\n",
    "    return c\r\n",
    "\r\n",
    "def Binomial(k,n):\r\n",
    "    if k>=n :\r\n",
    "        return fact(k)/(fact(n)*(fact(k-n)))\r\n",
    "    else:\r\n",
    "        return 0\r\n",
    "\r\n",
    "def ber_number(n):\r\n",
    "    if n==0:\r\n",
    "        return 1\r\n",
    "\r\n",
    "    S=-1/(n+1)\r\n",
    "    k=1\r\n",
    "    s=0\r\n",
    "    while k<= n:\r\n",
    "          s+=Binomial(n+1,k+1)*ber_number(n-k)\r\n",
    "          k+=1\r\n",
    "    return S*s\r\n",
    "\r\n",
    "\r\n",
    "def tan(x):\r\n",
    "    \"\"\"\r\n",
    "    Вычисление тангенс при помощи частичного суммирования\r\n",
    "    ряда Тейлора для окрестности 0\r\n",
    "    \"\"\"\r\n",
    "    iter =11\r\n",
    "    n=1\r\n",
    "    s=0\r\n",
    "    while n<=iter:\r\n",
    "       s+=(ber_number(2*n)*((-4)**n) *(1-4**n)*(x**(2*n-1)))/(fact(2*n))\r\n",
    "       n+=1\r\n",
    "    return s\r\n",
    "\r\n",
    "x = numpy.pi/3\r\n",
    "print(tan(x))\r\n",
    "print(numpy.tan(x))"
   ],
   "outputs": [],
   "metadata": {}
  }
 ],
 "metadata": {
  "kernelspec": {
   "display_name": "Python 3 (ipykernel)",
   "language": "python",
   "name": "python3"
  },
  "language_info": {
   "codemirror_mode": {
    "name": "ipython",
    "version": 3
   },
   "file_extension": ".py",
   "mimetype": "text/x-python",
   "name": "python",
   "nbconvert_exporter": "python",
   "pygments_lexer": "ipython3",
   "version": "3.7.8"
  }
 },
 "nbformat": 4,
 "nbformat_minor": 5
}
